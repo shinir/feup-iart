{
  "cells": [
    {
      "cell_type": "markdown",
      "metadata": {},
      "source": [
        "# Artificial Intelligence\n",
        "## L.EIC – 3rd Year/2nd Semester\n",
        "### Exercise Sheet 1\n",
        "# Solving Problems by Searching"
      ]
    },
    {
      "cell_type": "markdown",
      "metadata": {},
      "source": [
        "## The Two Buckets Problem\n",
        "\n",
        "<img src=\"https://qph.cf2.quoracdn.net/main-qimg-45726b16b460cae0147ae8ca245a8fb0-pjlq\" width=\"250px\" height=\"250px\" align=\"right\">\n",
        "\n",
        "Two buckets of capacities **c1** (e.g. 4 liters) and **c2** (e.g. 3 liters), respectively, are initially empty. The buckets do not have any intermediate markings. The only operations you can perform are:\n",
        "\n",
        "- Fill (completely) a bucket \n",
        "- Empty a bucket.\n",
        "- Pour one bucket into the other (until the target one is full or the source one is empty).\n",
        "\n",
        "The aim is to determine which operations to carry out so that the first bucket contains exactly **n** liters (e.g. 2 litres)."
      ]
    },
    {
      "cell_type": "markdown",
      "metadata": {},
      "source": [
        "Formulate this problem as a search problem by defining the state representation, initial state, operators (their name, preconditions, effects, and cost), and objective test."
      ]
    },
    {
      "cell_type": "raw",
      "metadata": {},
      "source": [
        "state representation: two buckets with c1 and c2 capacity -> [b1,b2]; [0,4] [0,3]\n",
        "initial state: both buckets are empty -> [0,0]\n",
        "objective test: first bucket with 2L -> [2,_]\n",
        "operators: (cost of 1 for each action)\n",
        "    - Empty1  -> 1 is empty; [b1>0]; [b1=0];\n",
        "    - Empty2  -> 2 is empty; [b2>0]; [b2=0];\n",
        "    - Fill1   -> 1 is being filled completely; [b1<4]; [b1=4];\n",
        "    - Fill2   -> 2 is being filled completely; [b2<3]; [b2=3];\n",
        "    - Pour12a -> pour 1 to 2, until 2 is full; [b1>0 && b2<3]; [b1<4 && b2=3];\n",
        "    - Pour12b -> pour 1 to 2, until 1 is empty; [b1>0 && b2<3]; [b1=0 && 0<b2<=3]\n",
        "    - Pour21a -> pour 2 to 1, until 1 is full; [b1<4 && b2>0]; [b1=4 && b2<3]\n",
        "    - Pour21b -> pour 2 to 1, until 2 is empty; [b1<4 && b2>0]; [0<b1<=4 && b2=0]\n"
      ]
    },
    {
      "cell_type": "markdown",
      "metadata": {},
      "source": [
        "What is the size of the state space for this problem? Represent the state space by drawing the possible objective states and displaying some of the possible transitions from the initial state."
      ]
    },
    {
      "cell_type": "raw",
      "metadata": {},
      "source": [
        "\n",
        "State space: 5*4=20\n"
      ]
    },
    {
      "cell_type": "markdown",
      "metadata": {},
      "source": [
        "Solve the problem by hand, using tree search. What solutions have you found?"
      ]
    },
    {
      "cell_type": "raw",
      "metadata": {},
      "source": [
        "(0,0)\n",
        "    fill1 (4,0)\n",
        "        fill2 (4,3)\n",
        "        empty1 (0,0) (we have already been on this state, we don't need to proceed)\n",
        "        pour12a (1,3)\n",
        "            empty2 (1,0)\n",
        "                pour12b (0,1)\n",
        "                    fill1 (4,1)\n",
        "                        pour12a (2,3)\n",
        "    fill2 (0,3) // set(visited)\n",
        "        fill1 (4,3)\n",
        "        empty2 (0,0)\n",
        "        \n",
        "\n",
        "(0,0)\n",
        "    (4,0)\n",
        "        (4,3)\n",
        "            (0,3) x\n",
        "        (0,0) x\n",
        "        (1,3)\n",
        "            (1,0)\n",
        "                (0,1)\n",
        "                    (4,1)\n",
        "                        - (2,3)\n",
        "                (1,3) x\n",
        "    (0,3)\n",
        "        (4,3) x\n",
        "        (0,0) x\n",
        "        (3,0)\n",
        "            (3,3)\n",
        "                (4,2)\n",
        "                    (0,2)\n",
        "                        - (2,0)\n",
        "            (0,3) x\n",
        "            (3,0) x"
      ]
    },
    {
      "cell_type": "markdown",
      "metadata": {},
      "source": [
        "### Buildind a computational approach to handle the problem\n",
        "\n",
        "To build a program to solve the buckets problem, we will implement a solution that separates the problem definition from the algorithms used to traverse the state space. This way, we can reuse our implementations of the search strategies in other problems."
      ]
    },
    {
      "cell_type": "markdown",
      "metadata": {},
      "source": [
        "#### Representing the two buckets problem as a search problem\n",
        "\n",
        "Let's start by defining a state for the buckets problem. For that, it'll suffice to aggregate two quantities, each representing the amount of water in one of the buckets. We also define a way of printing the state."
      ]
    },
    {
      "cell_type": "code",
      "execution_count": 10,
      "metadata": {
        "trusted": true
      },
      "outputs": [],
      "source": [
        "class BucketState:\n",
        "    c1 = 4   # capacity for bucket 1\n",
        "    c2 = 3   # capacity for bucket 2\n",
        "    \n",
        "    def __init__(self, b1, b2):\n",
        "        self.b1 = b1\n",
        "        self.b2 = b2\n",
        "\n",
        "    '''needed for the visited list'''\n",
        "    def __eq__(self, other):\n",
        "        if isinstance(other, self.__class__):\n",
        "            return self.__dict__ == other.__dict__\n",
        "        else:\n",
        "            return False\n",
        "\n",
        "    def __ne__(self, other):\n",
        "        \"\"\"Overrides the default implementation (unnecessary in Python 3)\"\"\"\n",
        "        return not self.__eq__(other)\n",
        "    \n",
        "    def __hash__(self):\n",
        "        return hash((self.b1, self.b2)) \n",
        "    ''' - '''\n",
        "\n",
        "    def __str__(self):\n",
        "        return \"(\" + str(self.b1) + \", \" + str(self.b2) + \")\""
      ]
    },
    {
      "cell_type": "markdown",
      "metadata": {},
      "source": [
        "Now we define each of the operators on states:"
      ]
    },
    {
      "cell_type": "code",
      "execution_count": 11,
      "metadata": {
        "trusted": true
      },
      "outputs": [],
      "source": [
        "# emptying the first bucket\n",
        "def empty1(state):\n",
        "    if state.b1 > 0:\n",
        "        return BucketState(0, state.b2)\n",
        "    return None\n",
        "\n",
        "# emptying the second bucket\n",
        "def empty2(state):\n",
        "    # your code here\n",
        "    if state.b2 > 0:\n",
        "        return BucketState(state.b1, 0)\n",
        "    return None\n",
        "\n",
        "# your code here\n",
        "\n",
        "# filling the first bucket\n",
        "def fill1(state):\n",
        "    if state.b1 < BucketState.c1:\n",
        "        return BucketState(BucketState.c1, state.b2)\n",
        "    return None\n",
        "\n",
        "# filling the second bucket\n",
        "def fill2(state):\n",
        "    if state.b2 < BucketState.c2:\n",
        "        return BucketState(state.b1, BucketState.c2)\n",
        "    return None\n",
        "\n",
        "def pour12_fill2(state):\n",
        "    if state.b1 > 0 and BucketState.c2 and state.b1 + state.b2 >= BucketState.c2:\n",
        "        return BucketState(state.b1 - (BucketState.c2 - state.b2), BucketState.c2)\n",
        "    return None\n",
        "\n",
        "def pour12_empty1(state):\n",
        "    if state.b1 > 0 and BucketState.c2 and state.b1 + state.b2 < BucketState.c2:\n",
        "        return BucketState(0, state.b1 + state.b2)\n",
        "    return None\n",
        "\n",
        "def pour21_fill1(state):\n",
        "    if state.b2 > 0 and BucketState.c1 and state.b2 + state.b1 >= BucketState.c1:\n",
        "        return BucketState(BucketState.c1, state.b2 - (BucketState.c1 - state.b1), )\n",
        "    return None\n",
        "\n",
        "def pour21_empty2(state):\n",
        "    if state.b2 > 0 and BucketState.c1 and state.b2 + state.b1 < BucketState.c1:\n",
        "        return BucketState(state.b1 + state.b2, 0)\n",
        "    return None\n"
      ]
    },
    {
      "cell_type": "markdown",
      "metadata": {},
      "source": [
        "The following function will aggregate all states that can be generated from a given one:"
      ]
    },
    {
      "cell_type": "code",
      "execution_count": 12,
      "metadata": {
        "trusted": true
      },
      "outputs": [],
      "source": [
        "def child_bucket_states(state):\n",
        "    new_states = []\n",
        "    if(empty1(state)):\n",
        "        new_states.append(empty1(state))\n",
        "    if(empty2(state)):\n",
        "        new_states.append(empty2(state))\n",
        "    if(fill1(state)):\n",
        "        new_states.append(fill1(state))\n",
        "    if(fill2(state)):\n",
        "        new_states.append(fill2(state))\n",
        "    if(pour12_fill2(state)):\n",
        "        new_states.append(pour12_fill2(state))\n",
        "    if(pour12_empty1(state)):\n",
        "        new_states.append(pour12_empty1(state))\n",
        "    if(pour21_fill1(state)):\n",
        "        new_states.append(pour21_fill1(state))\n",
        "    if(pour21_empty2(state)):\n",
        "        new_states.append(pour21_empty2(state))\n",
        "    return new_states"
      ]
    },
    {
      "cell_type": "markdown",
      "metadata": {},
      "source": [
        "Play around with the state transition operators and check if they are working properly:"
      ]
    },
    {
      "cell_type": "code",
      "execution_count": 13,
      "metadata": {
        "trusted": true
      },
      "outputs": [
        {
          "name": "stdout",
          "output_type": "stream",
          "text": [
            "(4, 0)\n"
          ]
        },
        {
          "data": {
            "text/plain": [
              "[<__main__.BucketState at 0x107325120>, <__main__.BucketState at 0x107326a40>]"
            ]
          },
          "execution_count": 13,
          "metadata": {},
          "output_type": "execute_result"
        }
      ],
      "source": [
        "s = BucketState(0, 0)\n",
        "s = fill1(s)\n",
        "print(s)\n",
        "\n",
        "child_bucket_states(BucketState(0, 0))\n",
        "\n",
        "\n"
      ]
    },
    {
      "cell_type": "markdown",
      "metadata": {},
      "source": [
        "Finally, we need to define the goal condition:"
      ]
    },
    {
      "cell_type": "code",
      "execution_count": 14,
      "metadata": {
        "trusted": true
      },
      "outputs": [
        {
          "ename": "SyntaxError",
          "evalue": "incomplete input (128471137.py, line 3)",
          "output_type": "error",
          "traceback": [
            "\u001b[0;36m  Cell \u001b[0;32mIn[14], line 3\u001b[0;36m\u001b[0m\n\u001b[0;31m    \u001b[0m\n\u001b[0m    ^\u001b[0m\n\u001b[0;31mSyntaxError\u001b[0m\u001b[0;31m:\u001b[0m incomplete input\n"
          ]
        }
      ],
      "source": [
        "def goal_bucket_state(state):\n",
        "    # your code here\n",
        "    "
      ]
    },
    {
      "cell_type": "markdown",
      "metadata": {},
      "source": [
        "Test your goal condition:"
      ]
    },
    {
      "cell_type": "code",
      "execution_count": null,
      "metadata": {
        "trusted": true
      },
      "outputs": [],
      "source": [
        "# your code here\n"
      ]
    },
    {
      "cell_type": "markdown",
      "metadata": {},
      "source": [
        "#### Implementing search algorithms\n",
        "\n",
        "Let us start by defining an appropriate structure to represent a node in a search tree. Each tree node will include:\n",
        "- a state of the problem\n",
        "- a link to its parent (to allow traveling from a leaf node towards the root of the tree)\n",
        "- a list of child nodes"
      ]
    },
    {
      "cell_type": "code",
      "execution_count": null,
      "metadata": {
        "trusted": true
      },
      "outputs": [],
      "source": [
        "# A generic definition of a tree node holding a state of the problem\n",
        "class TreeNode:\n",
        "    def __init__(self, state, parent=None):\n",
        "        self.state = state\n",
        "        self.parent = parent\n",
        "        self.children = []\n",
        "        if self.parent is None:\n",
        "            self.depth = 0\n",
        "        else:\n",
        "            self.depth = self.parent.depth + 1\n",
        "\n",
        "    def add_child(self, child_node):\n",
        "        self.children.append(child_node)\n",
        "        child_node.parent = self"
      ]
    },
    {
      "cell_type": "markdown",
      "metadata": {},
      "source": [
        "##### Breadth-first search\n",
        "\n",
        "Based on this structure, we can now implement breadth-first search. Note that we want the implementation to be independent of the problem at hand (in this case, the two buckets problem)."
      ]
    },
    {
      "cell_type": "code",
      "execution_count": null,
      "metadata": {
        "trusted": true
      },
      "outputs": [],
      "source": [
        "from collections import deque\n",
        "\n",
        "def breadth_first_search(initial_state, goal_state_func, operators_func):\n",
        "    root = TreeNode(initial_state)   # create the root node in the search tree\n",
        "    queue = deque([root])   # initialize the queue to store the nodes\n",
        "    \n",
        "    while queue:\n",
        "        node = queue.popleft()   # get first element in the queue\n",
        "        if goal_state_func(node.state):   # check goal state\n",
        "            return node\n",
        "        \n",
        "        for state in operators_func(node.state):   # go through next states\n",
        "\n",
        "            visited = set(visited)\n",
        "\n",
        "            if not(state.visited):\n",
        "                childnode = TreeNode(state=state, parent=node)\n",
        "                node.add_child(childnode)\n",
        "                queue.append(childnode)\n",
        "                visited.add(state)\n",
        "            \n",
        "\n",
        "    return None"
      ]
    },
    {
      "cell_type": "markdown",
      "metadata": {},
      "source": [
        "We can now use this function to actually perform a breadth-first search on the buckets problem: we pass it the initial state, our goal condition function, and the function for obtaining child states."
      ]
    },
    {
      "cell_type": "code",
      "execution_count": null,
      "metadata": {
        "trusted": true
      },
      "outputs": [],
      "source": [
        "goal = breadth_first_search(BucketState(0,0), \n",
        "                            goal_bucket_state, \n",
        "                            child_bucket_states)\n",
        "print(goal.state)"
      ]
    },
    {
      "cell_type": "markdown",
      "metadata": {},
      "source": [
        "In order to print the actual steps from the initial state to the last, we can take advantage of each node's link to its parent."
      ]
    },
    {
      "cell_type": "code",
      "execution_count": null,
      "metadata": {
        "trusted": true
      },
      "outputs": [],
      "source": [
        "def print_solution(node):\n",
        "    # your code here\n",
        "    \n",
        "    return"
      ]
    },
    {
      "cell_type": "markdown",
      "metadata": {},
      "source": [
        "Now we can print the solution:"
      ]
    },
    {
      "cell_type": "code",
      "execution_count": null,
      "metadata": {
        "trusted": true
      },
      "outputs": [],
      "source": [
        "print_solution(goal)"
      ]
    },
    {
      "cell_type": "markdown",
      "metadata": {},
      "source": [
        "If we need a description for each of the employed operators, we could have each operation function return also such a description, and modify the TreeNode class so that each node also includes a description of the edge to get there. We leave that as an exercise after class."
      ]
    },
    {
      "cell_type": "markdown",
      "metadata": {},
      "source": [
        "##### Depth-first search\n",
        "\n",
        "Implement depth-first search (again, in a manner that is independent of the problem at hand). You can start from your breadth-first search implementation and with minor changes get an implementation for depth-first search."
      ]
    },
    {
      "cell_type": "code",
      "execution_count": null,
      "metadata": {
        "trusted": true
      },
      "outputs": [],
      "source": [
        "def depth_first_search(initial_state, goal_state_func, operators_func):\n",
        "    # your code here\n",
        "    "
      ]
    },
    {
      "cell_type": "markdown",
      "metadata": {},
      "source": [
        "Test it on the two buckets problem."
      ]
    },
    {
      "cell_type": "code",
      "execution_count": null,
      "metadata": {
        "trusted": true
      },
      "outputs": [],
      "source": [
        "# your code here\n"
      ]
    },
    {
      "cell_type": "markdown",
      "metadata": {},
      "source": [
        "If you are unable to get a solution, think about it: depth-first search is not a complete search method, and one of the reasons for that is if the state space contains cycles. As such, you need to make sure you avoid entering into a cycle by keeping a visited nodes list or set and checking that list whenever you generate a new state."
      ]
    },
    {
      "cell_type": "markdown",
      "metadata": {},
      "source": [
        "##### Depth-limited search\n",
        "\n",
        "Another way to make it work is to impose a depth limit to the problem. Implement depth-limited search."
      ]
    },
    {
      "cell_type": "code",
      "execution_count": null,
      "metadata": {
        "trusted": true
      },
      "outputs": [],
      "source": [
        "def depth_limited_search(initial_state, goal_state_func, operators_func, depth_limit):\n",
        "    # your code here\n",
        "    "
      ]
    },
    {
      "cell_type": "markdown",
      "metadata": {},
      "source": [
        "Test it on the two buckets problem."
      ]
    },
    {
      "cell_type": "code",
      "execution_count": null,
      "metadata": {
        "trusted": true
      },
      "outputs": [],
      "source": [
        "# your code here\n"
      ]
    },
    {
      "cell_type": "markdown",
      "metadata": {},
      "source": [
        "##### Iterative deepening search\n",
        "\n",
        "Based on depth-limited, you can easily implement iterative-deepening search."
      ]
    },
    {
      "cell_type": "code",
      "execution_count": null,
      "metadata": {
        "trusted": true
      },
      "outputs": [],
      "source": [
        "def iterative_deepening_search(initial_state, goal_state_func, operators_func, depth_limit):\n",
        "    # your code here\n",
        "    "
      ]
    },
    {
      "cell_type": "markdown",
      "metadata": {},
      "source": [
        "Again, test it on the two buckets problem."
      ]
    },
    {
      "cell_type": "code",
      "execution_count": null,
      "metadata": {
        "trusted": true
      },
      "outputs": [],
      "source": [
        "# your code here\n"
      ]
    },
    {
      "cell_type": "markdown",
      "metadata": {},
      "source": [
        "##### Greedy search\n",
        "\n",
        "Start by defining an heuristic function and implement the Greedy Search algorithm (independent of the problem at hand)"
      ]
    },
    {
      "cell_type": "code",
      "execution_count": null,
      "metadata": {
        "trusted": true
      },
      "outputs": [],
      "source": [
        "def heuristic_bucket(node):\n",
        "    # heuristic function for the bucket filling problem\n",
        "    \n",
        "    # your code here\n",
        "    "
      ]
    },
    {
      "cell_type": "code",
      "execution_count": null,
      "metadata": {
        "trusted": true
      },
      "outputs": [],
      "source": [
        "def greedy_search(initial_state, goal_state_func, operators_func, heuristic_func):\n",
        "    # your code here\n",
        "    "
      ]
    },
    {
      "cell_type": "markdown",
      "metadata": {},
      "source": [
        "Test it on the two buckets problem."
      ]
    },
    {
      "cell_type": "code",
      "execution_count": null,
      "metadata": {
        "trusted": true
      },
      "outputs": [],
      "source": [
        "# your code here\n"
      ]
    },
    {
      "cell_type": "markdown",
      "metadata": {},
      "source": [
        "##### A* Algorithm\n",
        "\n",
        "Reuse the heuristic function defined before. This is very similar to greedy search, the difference is that it takes into account the cost of the path so far"
      ]
    },
    {
      "cell_type": "code",
      "execution_count": null,
      "metadata": {
        "trusted": true
      },
      "outputs": [],
      "source": [
        "def a_star_search(initial_state, goal_state_func, operators_func, heuristic):\n",
        "    # your code here\n",
        "    "
      ]
    },
    {
      "cell_type": "markdown",
      "metadata": {},
      "source": [
        "Again, test it on the two buckets problem."
      ]
    },
    {
      "cell_type": "code",
      "execution_count": null,
      "metadata": {
        "trusted": true
      },
      "outputs": [],
      "source": [
        "# your code here\n"
      ]
    },
    {
      "cell_type": "markdown",
      "metadata": {},
      "source": [
        "## The Missionaries and Cannibals Problem \n",
        "\n",
        "<img src=\"https://www.gamezkingdom.com/content/images/thumbs/0002926_missionaries-and-cannibals.jpeg\" width=\"250px\" height=\"250px\" align=\"right\">\n",
        "\n",
        "Three missionaries and three cannibals are on one of the banks of the river with a boat that only takes one or two people. The boat cannot travel the river alone.\n",
        "\n",
        "The goal is to find a way to get the six to the other bank of the river without ever leaving more cannibals than missionaries on one of the banks (even at the instant they leave/join the boat) during the process."
      ]
    },
    {
      "cell_type": "markdown",
      "metadata": {},
      "source": [
        "Formulate this problem as a search problem by defining the state representation, initial state, operators (their name, preconditions, effects, and cost), and objective test."
      ]
    },
    {
      "cell_type": "raw",
      "metadata": {},
      "source": [
        "\n",
        "\n"
      ]
    },
    {
      "cell_type": "markdown",
      "metadata": {},
      "source": [
        "Solve the problem by hand, using tree search. What solutions have you found?"
      ]
    },
    {
      "cell_type": "raw",
      "metadata": {},
      "source": [
        "\n",
        "\n"
      ]
    },
    {
      "cell_type": "markdown",
      "metadata": {},
      "source": [
        "Represent the problem as a search problem and take advantage of the implemented search algorithms to find solutions!"
      ]
    },
    {
      "cell_type": "code",
      "execution_count": null,
      "metadata": {
        "trusted": true
      },
      "outputs": [],
      "source": [
        "# your code here\n"
      ]
    },
    {
      "cell_type": "markdown",
      "metadata": {},
      "source": [
        "## N-Puzzle Problem\n",
        "\n",
        "The objective of this exercise is the application of search methods, with emphasis on informed\n",
        "search methods and the A\\* algorithm, to solve the well-known N-Puzzle problem. The desired\n",
        "objective self for the puzzle is as follows (0 represents the empty space):\n",
        "\n",
        "<table>\n",
        "<tr><th>9Puzzle</th><th>16Puzzle</th></tr>\n",
        "<tr>\n",
        "<td>\n",
        "\n",
        "|     |     |     |\n",
        "| --- | --- | --- |\n",
        "| 1   | 2   | 3   |\n",
        "| 4   | 5   | 6   |\n",
        "| 7   | 8   | 0   |\n",
        "\n",
        "\n",
        "</td>\n",
        "<td>\n",
        "\n",
        "|     |     |     |     |\n",
        "| --- | --- | --- | --- |\n",
        "| 1   | 2   | 3   | 4   |\n",
        "| 5   | 6   | 7   | 8   |\n",
        "| 9   | 10  | 11  | 12  |\n",
        "| 13  | 14  | 15  | 0   |\n",
        "\n",
        "</td>\n",
        "</tr>\n",
        "</table>\n",
        "\n",
        "Starting from a given initial state, the goal is to determine which operations to perform to\n",
        "solve the puzzle, reaching the desired objective self."
      ]
    },
    {
      "cell_type": "markdown",
      "metadata": {},
      "source": [
        "Formulate this problem as a search problem by defining the state representation, initial state, operators (their name, preconditions, effects, and cost), and objective test."
      ]
    },
    {
      "cell_type": "raw",
      "metadata": {},
      "source": [
        "\n",
        "\n"
      ]
    },
    {
      "cell_type": "markdown",
      "metadata": {},
      "source": [
        "Represent the problem as a search problem and take advantage of the implemented search algorithms to find solutions!\n",
        "\n",
        "For the Greedy Search and the A* Algorithm suppose the following heuristics for these methods:\n",
        "- H1 - Number of incorrect placed pieces;\n",
        "- H2 - Sum of manhattan distances from incorrect placed pieces to their correct places. \n",
        "\n",
        "Finally Compare the results obtained concerning execution time and memory space occupied in solving the following problems using the previous methods\n",
        "\n",
        "<table>\n",
        "<tr><th>Prob. 1</th><th>Prob. 2</th><th>Prob. 3</th><th>Prob. 4</th></tr>\n",
        "<tr>\n",
        "<td>\n",
        "\n",
        "|     |     |     |\n",
        "| --- | --- | --- |\n",
        "| 1   | 2   | 3   |\n",
        "| 5   | 0   | 6   |\n",
        "| 4   | 7   | 8   | \n",
        "\n",
        "</td>\n",
        "<td>\n",
        "\n",
        "|     |     |     |\n",
        "| --- | --- | --- |\n",
        "| 1   | 3   | 6   |\n",
        "| 5   | 2   | 0   |\n",
        "| 4   | 7   | 8   | \n",
        "\n",
        "</td>\n",
        "<td>\n",
        "\n",
        "|     |     |     |\n",
        "| --- | --- | --- |\n",
        "| 1   | 6   | 2   |\n",
        "| 5   | 7   | 3   |\n",
        "| 0   | 4   | 8   | \n",
        "\n",
        "</td>\n",
        "<td>\n",
        "\n",
        "|     |     |     |     |\n",
        "| --- | --- | --- | --- |\n",
        "| 5   | 1   | 3   | 4   |\n",
        "| 2   | 0   | 7   | 8   |\n",
        "| 10  | 6   | 11  | 12  |\n",
        "| 9   | 13  | 14  | 15  |\n",
        "\n",
        "</td>\n",
        "</tr>\n",
        "</table>"
      ]
    },
    {
      "cell_type": "code",
      "execution_count": null,
      "metadata": {
        "trusted": true
      },
      "outputs": [],
      "source": [
        "# the following arrays represent the problem for testing\n",
        "initial_states = [\n",
        "    [[1, 2, 3], [5, 0, 6], [4, 7, 8]],\n",
        "    [[1, 3, 6], [5, 2, 0], [4, 7, 8]],\n",
        "    [[1, 6, 2], [5, 7, 3], [0, 4, 8]],\n",
        "    [[5, 1, 3, 4], [2, 0, 7, 8], [10, 6, 11, 12], [9, 13, 14, 15]]\n",
        "]"
      ]
    },
    {
      "cell_type": "code",
      "execution_count": null,
      "metadata": {
        "trusted": true
      },
      "outputs": [],
      "source": [
        "# your code here\n"
      ]
    }
  ],
  "metadata": {
    "kernelspec": {
      "display_name": "Python 3",
      "language": "python",
      "name": "python3"
    },
    "language_info": {
      "codemirror_mode": {
        "name": "ipython",
        "version": 3
      },
      "file_extension": ".py",
      "mimetype": "text/x-python",
      "name": "python",
      "nbconvert_exporter": "python",
      "pygments_lexer": "ipython3",
      "version": "3.10.8"
    },
    "vscode": {
      "interpreter": {
        "hash": "b0fa6594d8f4cbf19f97940f81e996739fb7646882a419484c72d19e05852a7e"
      }
    }
  },
  "nbformat": 4,
  "nbformat_minor": 4
}
